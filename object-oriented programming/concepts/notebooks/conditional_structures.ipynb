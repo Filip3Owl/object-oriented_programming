{
 "cells": [
  {
   "cell_type": "code",
   "execution_count": 1,
   "id": "908e4fd4",
   "metadata": {},
   "outputs": [],
   "source": [
    "class Person:\n",
    "    \n",
    "    def __init__ (self, name, login=False,logoff=False):\n",
    "        self.name=name\n",
    "        self.login=login\n",
    "        self.logoff=logoff\n",
    "\n",
    "    def to_login(self):\n",
    "        print(f'Welcome {self.name}, you are logged in the system.')\n",
    "        self.login=True"
   ]
  },
  {
   "cell_type": "code",
   "execution_count": null,
   "id": "a2b3880f",
   "metadata": {},
   "outputs": [
    {
     "name": "stdout",
     "output_type": "stream",
     "text": [
      "Welcome Filipe, you are logged in the system.\n",
      "Welcome Filipe, you are logged in the system.\n"
     ]
    }
   ],
   "source": [
    "user = Person('Filipe')\n",
    "user.to_login()\n",
    "user.to_login() #The output is repeated"
   ]
  },
  {
   "cell_type": "code",
   "execution_count": 16,
   "id": "0dadabd8",
   "metadata": {},
   "outputs": [],
   "source": [
    "class Person:\n",
    "    \n",
    "    def __init__ (self, name, login=False,logoff=False):\n",
    "        self.name=name\n",
    "        self.login=login\n",
    "        self.logoff=logoff\n",
    "\n",
    "    def to_login(self):\n",
    "\n",
    "        if self.login:\n",
    "            print(f'{self.name}, you are already logged into the system.')\n",
    "        else:\n",
    "            print(f'Welcome {self.name}, you are logged in the system.')\n",
    "            self.login=True"
   ]
  },
  {
   "cell_type": "code",
   "execution_count": 17,
   "id": "c5767373",
   "metadata": {},
   "outputs": [
    {
     "name": "stdout",
     "output_type": "stream",
     "text": [
      "Welcome Filipe, you are logged in the system.\n"
     ]
    }
   ],
   "source": [
    "user = Person('Filipe')\n",
    "user.to_login()"
   ]
  },
  {
   "cell_type": "code",
   "execution_count": 18,
   "id": "aecba390",
   "metadata": {},
   "outputs": [
    {
     "name": "stdout",
     "output_type": "stream",
     "text": [
      "Filipe, you are already logged into the system.\n"
     ]
    }
   ],
   "source": [
    "user.to_login()"
   ]
  },
  {
   "cell_type": "code",
   "execution_count": 20,
   "id": "08adee52",
   "metadata": {},
   "outputs": [],
   "source": [
    "#complete code\n",
    "\n",
    "class Person:\n",
    "    \n",
    "    def __init__(self, name, login=False,logoff=False):\n",
    "        self.name=name\n",
    "        self.login=login\n",
    "        self.logoff=logoff\n",
    "\n",
    "    def to_login(self):\n",
    "\n",
    "        if self.login:\n",
    "            print(f'{self.name}, you are already logged into the system.')\n",
    "            return\n",
    "        \n",
    "        print(f'{self.name}, welcome to your account!')\n",
    "        self.login=True\n",
    "\n",
    "    def to_logoff(self):\n",
    "        \n",
    "        if not self.login:\n",
    "            print(f'{self.name} you are not logged into the system.')\n",
    "            return\n",
    "\n",
    "        print(f'{self.name}, you have logged out of the system.')"
   ]
  },
  {
   "cell_type": "code",
   "execution_count": 23,
   "id": "7823ed29",
   "metadata": {},
   "outputs": [
    {
     "name": "stdout",
     "output_type": "stream",
     "text": [
      "Filipe, welcome to your account!\n"
     ]
    }
   ],
   "source": [
    "user = Person('Filipe')\n",
    "user.to_login()"
   ]
  },
  {
   "cell_type": "code",
   "execution_count": 24,
   "id": "1a528e13",
   "metadata": {},
   "outputs": [
    {
     "name": "stdout",
     "output_type": "stream",
     "text": [
      "Filipe, you are already logged into the system.\n"
     ]
    }
   ],
   "source": [
    "user.to_login() #test"
   ]
  },
  {
   "cell_type": "code",
   "execution_count": 27,
   "id": "3edd2895",
   "metadata": {},
   "outputs": [
    {
     "name": "stdout",
     "output_type": "stream",
     "text": [
      "Filipe, you have logged out of the system.\n"
     ]
    }
   ],
   "source": [
    "user.to_logoff()"
   ]
  },
  {
   "cell_type": "code",
   "execution_count": 29,
   "id": "4bd3a625",
   "metadata": {},
   "outputs": [
    {
     "name": "stdout",
     "output_type": "stream",
     "text": [
      "Filipe, you have logged out of the system.\n"
     ]
    }
   ],
   "source": [
    "user.to_logoff() #test"
   ]
  }
 ],
 "metadata": {
  "kernelspec": {
   "display_name": ".venv",
   "language": "python",
   "name": "python3"
  },
  "language_info": {
   "codemirror_mode": {
    "name": "ipython",
    "version": 3
   },
   "file_extension": ".py",
   "mimetype": "text/x-python",
   "name": "python",
   "nbconvert_exporter": "python",
   "pygments_lexer": "ipython3",
   "version": "3.13.3"
  }
 },
 "nbformat": 4,
 "nbformat_minor": 5
}
