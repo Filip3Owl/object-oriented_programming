{
 "cells": [
  {
   "cell_type": "code",
   "execution_count": 1,
   "id": "ea0b2dc4",
   "metadata": {},
   "outputs": [
    {
     "name": "stdout",
     "output_type": "stream",
     "text": [
      "Product Name: Laptop, Price: $1200.00\n"
     ]
    }
   ],
   "source": [
    "class Product:\n",
    "    def __init__(self, name, price):\n",
    "        self.name = name\n",
    "        self.price = price\n",
    "\n",
    "product01 = Product(\"Laptop\", 1200.00)\n",
    "print(f'Product Name: {product01.name}, Price: ${product01.price:.2f}')"
   ]
  },
  {
   "cell_type": "code",
   "execution_count": null,
   "id": "a9e7a88a",
   "metadata": {},
   "outputs": [],
   "source": [
    "class Product:\n",
    "    \n",
    "    def __init__(self, name, price):\n",
    "        self.name = name\n",
    "        self.price = price\n",
    "\n",
    "    def discount(self, percentage):\n",
    "        return self.price - (self.price * percentage / 100)\n",
    "    \n",
    "product01 = Product(\"Laptop\", 1200.00)\n",
    "product01.discount(10)\n",
    "\n",
    "#There is an error in the code above, the price is a float and not a string.\n",
    "#Getters and setters are used to manage access to the attributes of a class.\n",
    "product02 = Product(\"Laptop\", 'R$1200.00')\n",
    "product02.discount(10)"
   ]
  },
  {
   "cell_type": "code",
   "execution_count": null,
   "id": "4903b9f0",
   "metadata": {},
   "outputs": [],
   "source": []
  }
 ],
 "metadata": {
  "kernelspec": {
   "display_name": ".venv",
   "language": "python",
   "name": "python3"
  },
  "language_info": {
   "codemirror_mode": {
    "name": "ipython",
    "version": 3
   },
   "file_extension": ".py",
   "mimetype": "text/x-python",
   "name": "python",
   "nbconvert_exporter": "python",
   "pygments_lexer": "ipython3",
   "version": "3.13.3"
  }
 },
 "nbformat": 4,
 "nbformat_minor": 5
}
