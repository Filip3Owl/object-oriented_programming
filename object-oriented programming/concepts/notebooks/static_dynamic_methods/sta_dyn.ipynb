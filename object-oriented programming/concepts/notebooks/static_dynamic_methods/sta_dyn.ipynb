{
 "cells": [
  {
   "cell_type": "code",
   "execution_count": 2,
   "id": "d8a2f299",
   "metadata": {},
   "outputs": [],
   "source": [
    "class Person:\n",
    "    \n",
    "    year=2025\n",
    "\n",
    "    def __init__(self, name, age):\n",
    "        self.name=name\n",
    "        self.age=age\n",
    "    \n",
    "    #class methods - Allow operations to the class itself.\n",
    "    #Take (cls) as the first parameter, which represents the class itself.\n",
    "    \n",
    "    @classmethod\n",
    "    def born_year(cls,  name, born_year):\n",
    "        age= cls.year - born_year\n",
    "        return cls(name, age)"
   ]
  },
  {
   "cell_type": "code",
   "execution_count": 10,
   "id": "16439a3b",
   "metadata": {},
   "outputs": [
    {
     "name": "stdout",
     "output_type": "stream",
     "text": [
      "Your name is Mike and your age is 93.\n"
     ]
    }
   ],
   "source": [
    "user = Person.born_year('Mike', 1932)\n",
    "print(f'Your name is {user.name} and your age is {user.age}.')"
   ]
  },
  {
   "cell_type": "code",
   "execution_count": null,
   "id": "7a99c5c3",
   "metadata": {},
   "outputs": [
    {
     "name": "stdout",
     "output_type": "stream",
     "text": [
      "Generated number: 538\n"
     ]
    }
   ],
   "source": [
    "from random import randint\n",
    "\n",
    "class Generator:\n",
    "    \n",
    "    @staticmethod\n",
    "    def id_gen():\n",
    "        gen = randint(100, 999)\n",
    "        return gen\n",
    "    \n",
    "number = Generator()\n",
    "print(f'Generated number: {number.id_gen()}')"
   ]
  }
 ],
 "metadata": {
  "kernelspec": {
   "display_name": ".venv",
   "language": "python",
   "name": "python3"
  },
  "language_info": {
   "codemirror_mode": {
    "name": "ipython",
    "version": 3
   },
   "file_extension": ".py",
   "mimetype": "text/x-python",
   "name": "python",
   "nbconvert_exporter": "python",
   "pygments_lexer": "ipython3",
   "version": "3.13.3"
  }
 },
 "nbformat": 4,
 "nbformat_minor": 5
}
