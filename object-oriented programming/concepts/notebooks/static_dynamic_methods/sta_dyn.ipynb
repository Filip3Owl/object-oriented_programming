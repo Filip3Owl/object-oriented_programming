{
 "cells": [
  {
   "cell_type": "code",
   "execution_count": null,
   "id": "d8a2f299",
   "metadata": {},
   "outputs": [],
   "source": [
    "class Person:\n",
    "    \n",
    "    year=2025\n",
    "\n",
    "    def __init__(self, name, age):\n",
    "        self.name=name\n",
    "        self.age=age\n",
    "    \n",
    "    #class methods - Allow operations to the class itself.\n",
    "    #Take (cls) as the first parameter, which represents the class itself.\n",
    "    @classmethod\n",
    "    def born_year(cls,  name, born_year):\n",
    "        age= cls.year - born_year\n",
    "        return cls(name, age)"
   ]
  }
 ],
 "metadata": {
  "kernelspec": {
   "display_name": ".venv",
   "language": "python",
   "name": "python3"
  },
  "language_info": {
   "codemirror_mode": {
    "name": "ipython",
    "version": 3
   },
   "file_extension": ".py",
   "mimetype": "text/x-python",
   "name": "python",
   "nbconvert_exporter": "python",
   "pygments_lexer": "ipython3",
   "version": "3.13.3"
  }
 },
 "nbformat": 4,
 "nbformat_minor": 5
}
