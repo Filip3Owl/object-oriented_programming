{
 "cells": [
  {
   "cell_type": "code",
   "execution_count": null,
   "id": "fdf499b5",
   "metadata": {},
   "outputs": [],
   "source": [
    "class Person:\n",
    "    \n",
    "    year=2025\n",
    "\n",
    "    def __init__(self, name, age):\n",
    "        self.name = name\n",
    "        self.age = age\n",
    "\n",
    "    def birth_year(self):\n",
    "        birth_year = self.year - self.age\n",
    "        print(f'You were born in {birth_year}.')"
   ]
  },
  {
   "cell_type": "code",
   "execution_count": 7,
   "id": "e7b960ea",
   "metadata": {},
   "outputs": [
    {
     "name": "stdout",
     "output_type": "stream",
     "text": [
      "You were born in 1996.\n"
     ]
    }
   ],
   "source": [
    "y = Person('Filipe', 29)\n",
    "y.birth_year()"
   ]
  }
 ],
 "metadata": {
  "kernelspec": {
   "display_name": ".venv",
   "language": "python",
   "name": "python3"
  },
  "language_info": {
   "codemirror_mode": {
    "name": "ipython",
    "version": 3
   },
   "file_extension": ".py",
   "mimetype": "text/x-python",
   "name": "python",
   "nbconvert_exporter": "python",
   "pygments_lexer": "ipython3",
   "version": "3.13.3"
  }
 },
 "nbformat": 4,
 "nbformat_minor": 5
}
