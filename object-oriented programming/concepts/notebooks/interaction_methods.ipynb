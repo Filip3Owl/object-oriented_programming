{
 "cells": [
  {
   "cell_type": "code",
   "execution_count": 1,
   "id": "cf48838a",
   "metadata": {},
   "outputs": [],
   "source": [
    "class Person:\n",
    "    def __init__(self, name, login=False,logoff=False):\n",
    "        self.name=name\n",
    "        self.login=login\n",
    "        self.logoff=logoff\n",
    "    \n",
    "    def to_login(self):\n",
    "        print(f'Welcome {self.name}, you are logged in the system.')\n",
    "        self.login=True"
   ]
  },
  {
   "cell_type": "code",
   "execution_count": 2,
   "id": "73e6a0a8",
   "metadata": {},
   "outputs": [
    {
     "name": "stdout",
     "output_type": "stream",
     "text": [
      "Welcome Filipe, you are logged in the system.\n"
     ]
    }
   ],
   "source": [
    "user = Person('Filipe')\n",
    "user.to_login()"
   ]
  }
 ],
 "metadata": {
  "kernelspec": {
   "display_name": ".venv",
   "language": "python",
   "name": "python3"
  },
  "language_info": {
   "codemirror_mode": {
    "name": "ipython",
    "version": 3
   },
   "file_extension": ".py",
   "mimetype": "text/x-python",
   "name": "python",
   "nbconvert_exporter": "python",
   "pygments_lexer": "ipython3",
   "version": "3.13.3"
  }
 },
 "nbformat": 4,
 "nbformat_minor": 5
}
